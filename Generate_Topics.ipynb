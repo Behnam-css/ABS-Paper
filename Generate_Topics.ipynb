{
  "nbformat": 4,
  "nbformat_minor": 0,
  "metadata": {
    "colab": {
      "provenance": []
    },
    "kernelspec": {
      "name": "python3",
      "display_name": "Python 3"
    },
    "language_info": {
      "name": "python"
    }
  },
  "cells": [
    {
      "cell_type": "code",
      "execution_count": null,
      "metadata": {
        "id": "B295pSMYRUXn"
      },
      "outputs": [],
      "source": [
        "!pip install bertopic\n",
        "from bertopic import BERTopic\n",
        "from collections import Counter\n",
        "import re\n",
        "import pandas as pd\n"
      ]
    },
    {
      "cell_type": "code",
      "source": [
        "from google.colab import drive\n",
        "drive.mount('/content/drive')"
      ],
      "metadata": {
        "id": "moYGOak2RZZ4"
      },
      "execution_count": null,
      "outputs": []
    },
    {
      "cell_type": "code",
      "source": [
        "\n",
        "def text_preprocessing(text):\n",
        "    \"\"\"\n",
        "    - Remove entity mentions (eg. '@united')\n",
        "    - Correct errors (eg. '&amp;' to '&')\n",
        "    @param    text (str): a string to be processed.\n",
        "    @return   text (Str): the processed string.\n",
        "    \"\"\"\n",
        "    # Remove '@name'\n",
        "    text = re.sub(r'(@.*?)[\\s]', ' ', text)\n",
        "\n",
        "    # Replace '&amp;' with '&'\n",
        "    text = re.sub(r'&amp;', '&', text)\n",
        "    \n",
        "    # Remove URL\n",
        "    text = re.sub(r\"http\\S+\", \"\", text)\n",
        "    \n",
        "    # Remove Hashtag\n",
        "    text = re.sub(r\"#\\S+\", \"\", text)\n",
        "\n",
        "    # Remove trailing whitespace\n",
        "    text = re.sub(r'\\s+', ' ', text).strip()\n",
        "    \n",
        "    # Remove non character \n",
        "    text=re.sub(r'[\\W_]+',' ', text)\n",
        "\n",
        "   # Remove  number\n",
        "    text = re.sub(\" \\d+\", \" \", text)\n",
        "\n",
        "    output = re.sub(r'\\s*[A-Za-z]+\\b', '' , text)\n",
        "    text = output.rstrip()\n",
        "\n",
        "    persian = ['۰', '۱', '۲', '۳', '۴', '۵', '۶', '۷', '۸', '۹'];\n",
        "    for u in persian:\n",
        "        text = re.sub(u, \"\", text);\n",
        "\n",
        "\n",
        "    text = re.sub(\"کووید\", \" \", text)\n",
        "    text = re.sub(\"کرونا\", \" \", text)\n",
        "    text = re.sub(\"ویروس\", \" \", text)\n",
        "    \n",
        "    \n",
        "\n",
        "    return text\n",
        "\n",
        "\n",
        "\n",
        "def removeDuplicates(S):\n",
        "  st = []\n",
        "  i = 0\n",
        "  while i < len(S):\n",
        "      if len(st)!=0 and st[-1]==S[i]:\n",
        "        i+=1\n",
        "        st.pop(-1)\n",
        "      else:\n",
        "        st.append(S[i])\n",
        "        i+=1\n",
        "  return \"\".join(i for i in st)\n",
        "\n"
      ],
      "metadata": {
        "id": "VZYgC5URRevt"
      },
      "execution_count": null,
      "outputs": []
    },
    {
      "cell_type": "code",
      "source": [
        "s1 = pd.read_fwf('drive/MyDrive/Pesian_Stop_Words_List.txt').values.tolist()\n",
        "s2 = pd.read_fwf('drive/MyDrive/stopwords.txt').values.tolist()\n",
        "s3 = pd.read_fwf('drive/MyDrive/stop-words.txt').values.tolist()\n",
        "s4=['هم','است','ضد']\n",
        "s=s1+s2+s3+s4\n",
        "\n",
        "stopwords=[]\n",
        "for  k in s:\n",
        "  stopwords.append(str(k).replace('[','').replace(']','').replace(\"'\",''))\n",
        "  \n",
        "stopwords=list(set(stopwords))"
      ],
      "metadata": {
        "id": "IJGBdfyURlbJ"
      },
      "execution_count": null,
      "outputs": []
    },
    {
      "cell_type": "code",
      "source": [
        "dat1=pd.read_csv('drive/MyDrive/sample 1(complete_retweets_all_clusters_deduped).csv')\n",
        "#dat2=pd.read_csv('drive/MyDrive/sample 2(full_5_clusters_44users_nometa).csv')\n",
        "#dat3=pd.read_csv('drive/MyDrive/sample 3(twitter_labeled_tweets_final_postId_time).csv')\n"
      ],
      "metadata": {
        "id": "i89O4QSRRoby"
      },
      "execution_count": null,
      "outputs": []
    },
    {
      "cell_type": "code",
      "source": [
        "docs=dat1['textField']"
      ],
      "metadata": {
        "id": "gwIChQCqRsbk"
      },
      "execution_count": null,
      "outputs": []
    },
    {
      "cell_type": "code",
      "source": [
        "docs=list(map(text_preprocessing,docs))"
      ],
      "metadata": {
        "id": "hy_EZPQLRxlY"
      },
      "execution_count": null,
      "outputs": []
    },
    {
      "cell_type": "code",
      "source": [
        "#removing stop words\n",
        "sw_removed_docs=[]\n",
        "for d in docs:\n",
        "  sw_removed_docs.append(' '.join([word for word in d.split() if word not in stopwords]))"
      ],
      "metadata": {
        "id": "u1ERoyWOR1N4"
      },
      "execution_count": null,
      "outputs": []
    },
    {
      "cell_type": "code",
      "source": [
        "my_model = BERTopic.load('drive/MyDrive/sample1_model')"
      ],
      "metadata": {
        "id": "hIZawT-tR7w6"
      },
      "execution_count": null,
      "outputs": []
    },
    {
      "cell_type": "code",
      "source": [
        "model_reduced=my_model.reduce_topics(sw_removed_docs, nr_topics=15)\n"
      ],
      "metadata": {
        "id": "mfdGutqgSBDR"
      },
      "execution_count": null,
      "outputs": []
    },
    {
      "cell_type": "code",
      "source": [
        "topic_reduced = model_reduced.topics_\n",
        "probabilities = model_reduced.probabilities_"
      ],
      "metadata": {
        "id": "Auhe5XgiSI7i"
      },
      "execution_count": null,
      "outputs": []
    },
    {
      "cell_type": "code",
      "source": [
        "my_model.visualize_heatmap()"
      ],
      "metadata": {
        "id": "hQyatrQKSPr8"
      },
      "execution_count": null,
      "outputs": []
    },
    {
      "cell_type": "code",
      "source": [
        "my_model.visualize_hierarchy()"
      ],
      "metadata": {
        "id": "mgAt24PCSS4V"
      },
      "execution_count": null,
      "outputs": []
    },
    {
      "cell_type": "code",
      "source": [
        "my_model.visualize_topics() "
      ],
      "metadata": {
        "id": "PE1v8MrZSWH0"
      },
      "execution_count": null,
      "outputs": []
    },
    {
      "cell_type": "code",
      "source": [
        "my_model.get_topic_info()\n"
      ],
      "metadata": {
        "id": "WJPiO_8fSa9X"
      },
      "execution_count": null,
      "outputs": []
    }
  ]
}